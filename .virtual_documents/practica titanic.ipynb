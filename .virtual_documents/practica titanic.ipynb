import pandas as pd
import numpy as np
import matplotlib.pyplot as plt
import seaborn as sns


df = pd.read_csv("train.csv")


df.shape


df.dtypes


df.info


df.isnull().sum()


#Vamos a tratar la columna 'Cabin', en las
#celdas donde no hay datos 'NaN' vamos a poner un valor prefijado 'C0'
df['Cabin'] = df['Cabin'].fillna('C0')


#Vamos a crear una nueva columna con la info
#de si es mayor de edad (1) o no (0)
df['Of age'] = np.where(df["Age"] >= 18, 1, 0)


df.median


#Calculamos la tasa de supervivencia habiendo 
#embarcado en 's'
embark_s = df.loc[df['Embarked'] == 'S']['Survived']
rate_embark_s = embark_s.sum()/len(embark_s)
#mostramos una grafica con los datos obtenidos
count_s = embark_s.value_counts().reindex([1,0])
plt.figure(figsize=(8,4))
plt.pie(count_s,labels=['Vivos','Muertos'],autopct='%1.1f%%')
plt.title("Supervivencia de los que embarcaron en 'S'")
plt.show()
print(f"Tasa de supervivencia en 'S': {rate_embark_s:.2%}")
#Calculamos la tasa de supervivencia habiendo 
#embarcado en 'c'
embark_c = df.loc[df['Embarked'] == 'C']['Survived']
rate_embark_c = embark_c.sum()/len(embark_c)
#mostramos una grafica con los datos obtenidos
count_c = embark_c.value_counts().reindex([1,0])
plt.figure(figsize=(8,4))
plt.pie(count_c,labels=['Vivos','Muertos'],autopct='%1.1f%%')
plt.title("Supervivencia de los que embarcaron en 'C'")
plt.show()
print(f"Tasa de supervivencia en 'C': {rate_embark_c:.2%}")
#Calculamos la tasa de supervivencia habiendo 
#embarcado en 'q'
embark_q = df.loc[df['Embarked'] == 'Q']['Survived']
rate_embark_q = embark_q.sum()/len(embark_q)
#mostramos una grafica con los datos obtenidos
count_q = embark_q.value_counts().reindex([1,0])
plt.figure(figsize=(8,4))
plt.pie(count_q,labels=['Vivos','Muertos'],autopct='%1.1f%%')
plt.title("Supervivencia de los que embarcaron en 'Q'")
plt.show()
print(f"Tasa de supervivencia en 'Q': {rate_embark_q:.2%}")

#Conclusiones
print('Como se puede observar hay correlacion entre la tasa de supervivencia'+
     'y el puerto de embarque.')


#Vamos a calcular la tasa de supervivenciade las
#personas menores de edad
underage = df.loc[df['Of age'] == 0]['Survived']
rate_underage = underage.sum()/len(underage)
#mostramos un grafico con la informacion
count_underage = underage.value_counts().reindex([1,0])
plt.figure(figsize=(8,4))
plt.pie(count_underage,labels=['Vivo','Muerto'],autopct='%1.1f%%')
plt.title('Numero de supervivientes menores de edad.')
plt.show()
print(f"Tasa de supervivencia de los menores de edad es: {rate_underage:.2%}")

#Vamos a calcular la tasa de supervivenciade las
#personas mayores de edad
of_age = df.loc[df['Of age'] == 1]['Survived']
rate_of_age = of_age.sum()/len(of_age)
#Vamos a mostrar un grafico con la informacion
count_of_age = of_age.value_counts().reindex([1,0])
plt.figure(figsize=(8,4))
plt.pie(count_of_age,labels=['Vivos','Muertos'],autopct='%1.1f%%')
plt.title('Numero de supervivientes menores de edad.')
plt.show()
print(f"Tasa de supervivencia de los menores de edad es: {rate_of_age:.2%}")

#Conclusion
print('Como podemos observar la edad no tiene relacion con la probabilidad de supervivencia')


#vamos a ver cuanta gente tiene una cabina asignada
df['With cabin'] = np.where((df['Cabin'] == 'C0'),0,1)
count_cabin = df['With cabin'].value_counts().reindex([1,0])
#Mostramos los graficos con los datos
plt.figure(figsize=(8,4))
plt.bar(['Con cabina','Sin cabina'],count_cabin)
plt.title('Numero de personas con cabina')
plt.show()

#Vamos a ver las probabilidades de sobrevivir con y sin cabina asignada
#Primero calculamos la probabilidad de la gente sin cabina
without_cabin = df.loc[df['With cabin'] == 0] ['Survived']
rate_without_cabin = without_cabin.sum()/ len(without_cabin)
count_without = without_cabin.value_counts().reindex([1,0])
plt.pie(count_without,labels=['Vivos','Muertos'],autopct='%1.1f%%')
plt.title('Supervivencia sin cabina asignada')
plt.show()

#Segundo calculamos la probabilidad de la gente con cabina
with_cabin = df.loc[df['With cabin'] == 1] ['Survived']
rate_with_cabin = with_cabin.sum()/ len(with_cabin)
count_with = with_cabin.value_counts().reindex([1,0])
plt.pie(count_with,labels=['Vivos','Muertos'],autopct='%1.1f%%')
plt.title('Supervivencia con cabina asignada')
plt.show()

print('Como podemos observar hay una correlacion '+
      'elevada con el porcentaje de supervivencia')


#Vamos a seguir profundizando en la relacion que hay entre sobrevivir y tener cabina asignada,
df['Sex people with cabin'] = df.loc[(df['With cabin'] == 1)]['Sex']
df['Sex people with cabin'].fillnan



